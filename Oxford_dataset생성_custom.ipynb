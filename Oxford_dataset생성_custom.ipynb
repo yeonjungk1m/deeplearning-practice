{
 "cells": [
  {
   "cell_type": "markdown",
   "id": "c030d6b2-24fd-4415-b4c0-2f9cbafb6203",
   "metadata": {},
   "source": [
    "# Oxfordpet dataset 생성\n",
    "1. 데이터 파일 다운로드\n",
    "2. 압축 풀기\n",
    "3. 데이터파일 경로 목록 생성\n",
    "4. 전처리 -> jpg color를 제외한 이미지는 삭제\n",
    "5. y값 정의 -> 파일명을 이용해서 각 이미지들의 품종값을 추출해서 y값 정의\n",
    "6. train/validation/test set 분리\n",
    "7. Dataset 정의"
   ]
  },
  {
   "cell_type": "code",
   "execution_count": 1,
   "id": "9a7c0bff-3c96-419b-ba77-f3a807b5c2db",
   "metadata": {},
   "outputs": [],
   "source": [
    "import os\n",
    "import re\n",
    "from glob import glob\n",
    "import tarfile\n",
    "from PIL import Image\n",
    "\n",
    "import torch\n",
    "from torch.utils.data import Dataset, DataLoader\n",
    "from torchvision import transforms"
   ]
  },
  {
   "cell_type": "code",
   "execution_count": 2,
   "id": "9b05c5cd-60ca-443e-b8c2-881721c3ab62",
   "metadata": {
    "scrolled": true
   },
   "outputs": [],
   "source": [
    "#1. 데이터 파일 다운로드\n",
    "import os\n",
    "\n",
    "img_tarfile_path = r\"C:\\classes\\classes\\y_deeplearning\\images.tar.gz\"\n",
    "pet_data_path = r\"C:\\classes\\classes\\y_deeplearning\\datasets\"\n",
    "pet_image_path = os.path.join(pet_data_path, \"images\")"
   ]
  },
  {
   "cell_type": "code",
   "execution_count": 6,
   "id": "44be21ce-ad23-4e5f-ad2f-a57054218155",
   "metadata": {},
   "outputs": [],
   "source": [
    "#2. 압축 풀기\n",
    "with tarfile.open(img_tarfile_path) as tar:\n",
    "    tar.extractall(pet_data_path)"
   ]
  },
  {
   "cell_type": "code",
   "execution_count": 3,
   "id": "63dcce46-76c7-4edb-a008-d899f7afaa83",
   "metadata": {
    "editable": true,
    "scrolled": true,
    "slideshow": {
     "slide_type": ""
    },
    "tags": []
   },
   "outputs": [
    {
     "data": {
      "text/plain": [
       "['C:\\\\classes\\\\classes\\\\y_deeplearning\\\\datasets\\\\images\\\\Abyssinian_1.jpg',\n",
       " 'C:\\\\classes\\\\classes\\\\y_deeplearning\\\\datasets\\\\images\\\\Abyssinian_10.jpg',\n",
       " 'C:\\\\classes\\\\classes\\\\y_deeplearning\\\\datasets\\\\images\\\\Abyssinian_100.jpg',\n",
       " 'C:\\\\classes\\\\classes\\\\y_deeplearning\\\\datasets\\\\images\\\\Abyssinian_101.jpg',\n",
       " 'C:\\\\classes\\\\classes\\\\y_deeplearning\\\\datasets\\\\images\\\\Abyssinian_102.jpg']"
      ]
     },
     "execution_count": 3,
     "metadata": {},
     "output_type": "execute_result"
    }
   ],
   "source": [
    "#3. 데이터 파일 경로 목록 생성\n",
    "file_list = glob(pet_image_path+\"\\\\*.jpg\")\n",
    "file_list[:5]"
   ]
  },
  {
   "cell_type": "code",
   "execution_count": 8,
   "id": "002fd8ae-6614-4081-b900-f9f6a9411bf2",
   "metadata": {},
   "outputs": [],
   "source": [
    "#4. 전처리 -> jpg color 가 아닌 이미지 파일을 삭제\n",
    "remove_cnt = 0\n",
    "for file in file_list:\n",
    "    with Image.open(file) as img:\n",
    "        image_mode = img.mode\n",
    "    if image_mode != \"RGB\":\n",
    "        os.remove(file)\n",
    "        remove_cnt += 1\n",
    "        print(f\"삭제파일명 : {os.path.basename(file)}, mode: {image_mode}\")"
   ]
  },
  {
   "cell_type": "code",
   "execution_count": 9,
   "id": "6ddeab46",
   "metadata": {},
   "outputs": [
    {
     "name": "stdout",
     "output_type": "stream",
     "text": [
      "7378\n"
     ]
    }
   ],
   "source": [
    "#4_1. 이미지 파일 목록을 갱신\n",
    "file_list = glob(pet_image_path+\"\\\\*.jpg\")\n",
    "print(len(file_list))"
   ]
  },
  {
   "cell_type": "code",
   "execution_count": 18,
   "id": "89902614",
   "metadata": {},
   "outputs": [],
   "source": [
    "#5. y값 정의 -> 파일명을 이용해 각 이미지들의 class 추출 후 y값 정의\n",
    "import re\n",
    "\n",
    "\n",
    "## 1) 파일명을 이용해서 y값 정의 / 중복제거를 위해 set 사용\n",
    "class_name_set = set()\n",
    "for file in file_list:\n",
    "    file_name = os.path.basename(file) \n",
    "    file_name = os.path.splitext(file_name)[0]\n",
    "    label = re.sub('_\\d+', \"\", file_name) # \\d+ 정수 1개이상\n",
    "    class_name_set.add(label)\n",
    "\n",
    "## 2) y값 리스트 반환 후 정렬\n",
    "index_to_class = list(class_name_set)\n",
    "index_to_class.sort()\n",
    "\n",
    "\n",
    "class_to_index = {value:index for index, value in enumerate(index_to_class)}"
   ]
  },
  {
   "cell_type": "code",
   "execution_count": 19,
   "id": "ccb765e3",
   "metadata": {},
   "outputs": [],
   "source": [
    "#6. train / valid / test set 분리 -> file 목록 index로 분리\n",
    "# 200 장 기준, train 70%, valid 20%, test 10%\n",
    "\n",
    "train_idx = int(200 * 0.7)\n",
    "val_idx = train_idx + int(200 * 0.2)\n",
    "\n",
    "#6-1. train / validation / test set 에 넣을 파일경로 나누기.\n",
    "train_file_list = []\n",
    "valid_file_list = []\n",
    "test_file_list = []\n",
    "cnt = 0 #class별 파일 index\n",
    "previous_class = None # 이전 처리했던 파일이 어느 class 인지 저장할 변수.\n",
    "file_list.sort() # file_list 정렬 - 같은 품종의 파일끼리 뭉쳐있도록 정렬.\n",
    "\n",
    "for path in file_list:\n",
    "    file_name = os.path.splitext(os.path.basename(path))[0] # 디렉토리빼고 확장자빼고 파일명만 추출\n",
    "    class_name = re.sub(r\"_\\d+\", \"\", file_name) # 품종만 추출\n",
    "\n",
    "    if previous_class == class_name: # 이전 처리 class와 현재 처리 class가 같은지 확인\n",
    "        cnt += 1\n",
    "    else:\n",
    "        cnt = 1\n",
    "    \n",
    "    if cnt <= train_idx: # 0~ 140\n",
    "        train_file_list.append(path)\n",
    "    elif cnt > train_idx and cnt <=val_idx: # 140 ~ 180\n",
    "        valid_file_list.append(path)\n",
    "    else: # 180~200\n",
    "        test_file_list.append(path)\n",
    "    \n",
    "    previous_class = class_name # 현재 처리한 class 이름을 previous_class이름으로 설정"
   ]
  },
  {
   "cell_type": "code",
   "execution_count": 20,
   "id": "2625dd9b",
   "metadata": {},
   "outputs": [],
   "source": [
    "#7. Dataset 구현\n",
    "import cv2\n",
    "\n",
    "class OxfordPetDataset(Dataset):\n",
    "    def __init__(self, path_list, class_to_index, index_to_class, transform=None):\n",
    "        self.path_list = path_list\n",
    "        self.transform = transform\n",
    "        self.class_to_index = class_to_index\n",
    "        self.index_to_class = index_to_class\n",
    "\n",
    "    def __len__(self):\n",
    "        return len(self.path_list)\n",
    "    \n",
    "    def __getitem__(self, index):\n",
    "        path = self.path_list[index]\n",
    "        img = cv2.cvtcolor(cv2.imread(path), cv2.COLROR_BGR2RGB)\n",
    "        img = cv2.resize(img, (224, 224))\n",
    "\n",
    "        if self.transform is not None:\n",
    "            img = self.transform(img)\n",
    "        class_name = re.sub(r\"_\\d+\", \"\", os.path.basename(path))\n",
    "        class_index = self.class_to_index[class_name]\n",
    "        return img, class_index"
   ]
  },
  {
   "cell_type": "code",
   "execution_count": 22,
   "id": "656df430",
   "metadata": {},
   "outputs": [],
   "source": [
    "# 7-1. dataset 정의\n",
    "trainset = OxfordPetDataset(\n",
    "    train_file_list,\n",
    "    class_to_index,\n",
    "    index_to_class\n",
    ")\n",
    "\n",
    "validset = OxfordPetDataset(valid_file_list, class_to_index, index_to_class)\n",
    "testset = OxfordPetDataset(test_file_list, class_to_index, index_to_class)\n",
    "\n",
    "train_loader = DataLoader(trainset, batch_size=32, shuffle=True)\n",
    "valid_loader = DataLoader(validset, batch_size=32)\n",
    "test_loader = DataLoader(testset, batch_size=32)"
   ]
  },
  {
   "cell_type": "code",
   "execution_count": null,
   "id": "44eaaec8",
   "metadata": {},
   "outputs": [],
   "source": []
  }
 ],
 "metadata": {
  "kernelspec": {
   "display_name": "Python 3 (ipykernel)",
   "language": "python",
   "name": "python3"
  },
  "language_info": {
   "codemirror_mode": {
    "name": "ipython",
    "version": 3
   },
   "file_extension": ".py",
   "mimetype": "text/x-python",
   "name": "python",
   "nbconvert_exporter": "python",
   "pygments_lexer": "ipython3",
   "version": "3.11.8"
  }
 },
 "nbformat": 4,
 "nbformat_minor": 5
}
