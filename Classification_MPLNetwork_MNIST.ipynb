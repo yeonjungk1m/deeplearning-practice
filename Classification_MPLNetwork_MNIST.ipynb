{
 "cells": [
  {
   "cell_type": "markdown",
   "metadata": {},
   "source": [
    "# 분류(Classfication) - 다중분류(Multi-Class Classification) 문제\n",
    "- 이미지는 28 X 28\n",
    "- Gray scale\n",
    "- label은 0~9까지의 정수"
   ]
  },
  {
   "cell_type": "code",
   "execution_count": 1,
   "metadata": {},
   "outputs": [],
   "source": [
    "import torch\n",
    "import torch.nn as nn\n",
    "from torch.utils.data import DataLoader\n",
    "from torchvision import datasets, transforms\n",
    "from torchinfo import summary\n",
    "\n",
    "import matplotlib.pyplot as plt\n",
    "import numpy as np\n",
    "\n",
    "# device 설정\n",
    "device = \"cuda\" if torch.cuda.is_available() else \"cpu\""
   ]
  },
  {
   "cell_type": "markdown",
   "metadata": {},
   "source": [
    "# 1. Dataset 생성"
   ]
  },
  {
   "cell_type": "code",
   "execution_count": 2,
   "metadata": {},
   "outputs": [
    {
     "data": {
      "text/plain": [
       "(50000, 10000, 10000)"
      ]
     },
     "execution_count": 2,
     "metadata": {},
     "output_type": "execute_result"
    }
   ],
   "source": [
    "#1. trainset, testset 생성\n",
    "\n",
    "root_path = r\"C:\\classes\\blog\\deeplearning\\datasets\"\n",
    "trainset = datasets.FashionMNIST(\n",
    "    root=root_path,\n",
    "    train=True,\n",
    "    download=True,\n",
    "    transform=transforms.ToTensor() # 이미지 데이터를 tensor로 변환\n",
    ")\n",
    "testset = datasets.FashionMNIST(\n",
    "    root=root_path,\n",
    "    train=False,\n",
    "    download=True,\n",
    "    transform=transforms.ToTensor()\n",
    ")\n",
    "\n",
    "#2. validation set을 trainset으로부터 생성\n",
    "trainset, validset = torch.utils.data.random_split(trainset, [50000, 10000])\n",
    "len(trainset), len(testset), len(validset)"
   ]
  },
  {
   "cell_type": "code",
   "execution_count": 3,
   "metadata": {},
   "outputs": [
    {
     "data": {
      "text/plain": [
       "{'T-shirt/top': 0,\n",
       " 'Trouser': 1,\n",
       " 'Pullover': 2,\n",
       " 'Dress': 3,\n",
       " 'Coat': 4,\n",
       " 'Sandal': 5,\n",
       " 'Shirt': 6,\n",
       " 'Sneaker': 7,\n",
       " 'Bag': 8,\n",
       " 'Ankle boot': 9}"
      ]
     },
     "execution_count": 3,
     "metadata": {},
     "output_type": "execute_result"
    }
   ],
   "source": [
    "#3. 이미지 class 및 label 확인\n",
    "testset.class_to_idx"
   ]
  },
  {
   "cell_type": "code",
   "execution_count": 4,
   "metadata": {},
   "outputs": [
    {
     "data": {
      "image/png": "[encoded data removed]",
      "text/plain": [
       "<Figure size 100x100 with 1 Axes>"
      ]
     },
     "metadata": {},
     "output_type": "display_data"
    }
   ],
   "source": [
    "#4. 입력 이미지 확인\n",
    "idx = 700\n",
    "x, y = testset[idx] # x가 이미지, y가 라벨링된 class # testset, trainset은 이미지와 class의 레이블을 tuple형태로 반환\n",
    "plt.figure(figsize=(1, 1))\n",
    "plt.imshow(x.squeeze(), cmap=\"Greys\") #.squeeze : 이미지 차원 중 크기가 1인차원을 제거하여 2차원 이미지를 만듬.\n",
    "plt.title(f\"{testset.classes[y]}\")\n",
    "plt.show()"
   ]
  },
  {
   "cell_type": "code",
   "execution_count": 5,
   "metadata": {},
   "outputs": [],
   "source": [
    "# 5. DataLoader 생성\n",
    "train_loader = DataLoader(trainset, batch_size=128, shuffle=True, drop_last=True)\n",
    "valid_loader = DataLoader(validset, batch_size=128)\n",
    "test_loader = DataLoader(testset, batch_size=128)"
   ]
  },
  {
   "cell_type": "markdown",
   "metadata": {},
   "source": [
    "# 2. 모델 정의"
   ]
  },
  {
   "cell_type": "code",
   "execution_count": 6,
   "metadata": {},
   "outputs": [
    {
     "data": {
      "text/plain": [
       "torch.Size([1, 28, 28])"
      ]
     },
     "execution_count": 6,
     "metadata": {},
     "output_type": "execute_result"
    }
   ],
   "source": [
    "trainset[0][0].shape"
   ]
  },
  {
   "cell_type": "code",
   "execution_count": 7,
   "metadata": {},
   "outputs": [],
   "source": [
    "#1. 모델 정의\n",
    "class FashionMNISTModel(nn.Module):\n",
    "\n",
    "    def __init__(self):\n",
    "        super().__init__()\n",
    "        self.lr1 = nn.Linear(784, 1024) #위는 0번행 샘플의 이미지 shape을 확인한 것. featrue개수는 1 * 28 * 28\n",
    "        self.lr2 = nn.Linear(1024, 512)\n",
    "        self.lr3 = nn.Linear(512, 256)\n",
    "        self.lr4 = nn.Linear(256, 128)\n",
    "        self.lr5 = nn.Linear(128, 64)\n",
    "        # output layer 함수\n",
    "        self.lr6 = nn.Linear(64, 10)\n",
    "        # activation 함수\n",
    "        self.relu = nn.ReLU()\n",
    "\n",
    "    def forward(self, X):\n",
    "        out = nn.Flatten()(X) # batch축은 유지하고 그 이후 축들을 flatten 시킨다.\n",
    "        # hidden layer 계산\n",
    "        out = self.relu(self.lr1(out))\n",
    "        out = self.relu(self.lr2(out))\n",
    "        out = self.relu(self.lr3(out))\n",
    "        out = self.relu(self.lr4(out))\n",
    "        out = self.relu(self.lr5(out))\n",
    "        # output layer\n",
    "        out = self.lr6(out)\n",
    "        return out"
   ]
  },
  {
   "cell_type": "code",
   "execution_count": 8,
   "metadata": {},
   "outputs": [
    {
     "name": "stdout",
     "output_type": "stream",
     "text": [
      "FashionMNISTModel(\n",
      "  (lr1): Linear(in_features=784, out_features=1024, bias=True)\n",
      "  (lr2): Linear(in_features=1024, out_features=512, bias=True)\n",
      "  (lr3): Linear(in_features=512, out_features=256, bias=True)\n",
      "  (lr4): Linear(in_features=256, out_features=128, bias=True)\n",
      "  (lr5): Linear(in_features=128, out_features=64, bias=True)\n",
      "  (lr6): Linear(in_features=64, out_features=10, bias=True)\n",
      "  (relu): ReLU()\n",
      ")\n"
     ]
    }
   ],
   "source": [
    "#2. 모델 객체 저장\n",
    "f_model = FashionMNISTModel()\n",
    "print(f_model)"
   ]
  },
  {
   "cell_type": "markdown",
   "metadata": {},
   "source": [
    "# 모델 추론"
   ]
  },
  {
   "cell_type": "code",
   "execution_count": 9,
   "metadata": {},
   "outputs": [
    {
     "name": "stdout",
     "output_type": "stream",
     "text": [
      "torch.Size([2, 10])\n"
     ]
    },
    {
     "data": {
      "text/plain": [
       "tensor([ 4.0004e-05, -6.8782e-02,  1.3773e-01,  6.8695e-02, -3.9682e-02,\n",
       "         2.0440e-03, -1.0222e-01, -5.9480e-02,  1.2302e-01, -3.1348e-02])"
      ]
     },
     "execution_count": 9,
     "metadata": {},
     "output_type": "execute_result"
    }
   ],
   "source": [
    "#1. dummy data를 이용해서 추론(model에 입력)\n",
    "with torch.no_grad():\n",
    "    sample = torch.ones((2, 1, 28, 28), dtype=torch.float32) # 예시, 앞의 2는 batch 크기를 나타냄. 즉, 이미지 2개\n",
    "    y_hat = f_model(sample)\n",
    "    print(y_hat.shape)\n",
    "\n",
    "y_hat[0] # 2개의 sample(=batch 크기가 2), 10개의 클래스에 대한 예측"
   ]
  },
  {
   "cell_type": "code",
   "execution_count": 10,
   "metadata": {},
   "outputs": [
    {
     "data": {
      "text/plain": [
       "(tensor(2), 'Pullover')"
      ]
     },
     "execution_count": 10,
     "metadata": {},
     "output_type": "execute_result"
    }
   ],
   "source": [
    "# 2. class 별 정답 여부값.\n",
    "i = y_hat[0].argmax(dim=-1) # dim=-1 마지막 차원에 대해서, 최대 확률값을 찾음.\n",
    "i, testset.classes[i.item()] # i.item은 class의 label 출력, .classes는 class name반환"
   ]
  },
  {
   "cell_type": "code",
   "execution_count": 11,
   "metadata": {},
   "outputs": [],
   "source": [
    "#3. 정확도\n",
    "y = torch.tensor([1, 6])\n",
    "pred = y_hat.argmax(dim=-1)\n",
    "proba = nn.Softmax(dim=-1)(y_hat)"
   ]
  },
  {
   "cell_type": "markdown",
   "metadata": {},
   "source": [
    "# 학습 + 검증"
   ]
  },
  {
   "cell_type": "code",
   "execution_count": 12,
   "metadata": {},
   "outputs": [],
   "source": [
    "# 1. 학습률, epoch, loss, optimizer 정의\n",
    "lr = 0.001 #학습률\n",
    "epochs = 10\n",
    "m_model = FashionMNISTModel().to(device) #모델을 device로 이동\n",
    "loss_fn = nn.CrossEntropyLoss() # 다중분류의 경우, 손실함수는 CrossEntropy Loss를 주로 사용\n",
    "# 모델을 추정할 때, Softmax를 통과하면 안됨 -> Softmax를 통과하면 one hot encoding처리가 되는데 이미 처리되어있기 때문.\n",
    "optimizer = torch.optim.Adam(m_model.parameters(), lr=lr)"
   ]
  },
  {
   "cell_type": "code",
   "execution_count": 13,
   "metadata": {},
   "outputs": [
    {
     "name": "stdout",
     "output_type": "stream",
     "text": [
      "[1/10] train loss: 0.6807259947825701, valid loss: 0.43490855641002896, valid_acc: 0.8388\n",
      "[2/10] train loss: 0.4165897805339251, valid loss: 0.3657770484120031, valid_acc: 0.8632\n",
      "[3/10] train loss: 0.3586959727299519, valid loss: 0.3425319630982755, valid_acc: 0.8733\n",
      "[4/10] train loss: 0.3343916634718577, valid loss: 0.35019185346893117, valid_acc: 0.8713\n",
      "[5/10] train loss: 0.30765015811492236, valid loss: 0.3317758211795288, valid_acc: 0.8738\n",
      "[6/10] train loss: 0.29439248801806034, valid loss: 0.3273496649499181, valid_acc: 0.8776\n",
      "[7/10] train loss: 0.2768263478500721, valid loss: 0.32338404509274266, valid_acc: 0.8839\n",
      "[8/10] train loss: 0.264373428775714, valid loss: 0.3116591458173492, valid_acc: 0.8856\n",
      "[9/10] train loss: 0.2520552082894704, valid loss: 0.29133845049935053, valid_acc: 0.8915\n",
      "[10/10] train loss: 0.24071667538239405, valid loss: 0.31887511112078837, valid_acc: 0.8865\n",
      "학습에 걸린시간: 161.43755722045898초\n"
     ]
    }
   ],
   "source": [
    "#2. 학습\n",
    "import time\n",
    "\n",
    "train_loss_list = []\n",
    "val_loss_list = []\n",
    "val_acc_list = []\n",
    "\n",
    "s = time.time()\n",
    "\n",
    "for epoch in range(epochs):\n",
    "    m_model.train()\n",
    "    train_loss = 0.0\n",
    "    for X_train, y_train in train_loader:\n",
    "        # 1개 step 학습\n",
    "        X_train, y_train = X_train.to(device), y_train.to(device)\n",
    "        pred_train = m_model(X_train)\n",
    "        loss = loss_fn(pred_train, y_train)\n",
    "        loss.backward()\n",
    "        optimizer.step()\n",
    "        optimizer.zero_grad()\n",
    "        train_loss += loss.item()\n",
    "    # 1개 epoch 학습 완료. step별로 누적된 train_loss의 평균값을 계산\n",
    "    train_loss = train_loss / len(train_loader) # losss / 데이터 개수\n",
    "    train_loss_list.append(train_loss)\n",
    "\n",
    "###############################################################################\n",
    "#3. 평가\n",
    "    m_model.eval()\n",
    "    valid_loss = 0.0\n",
    "    valid_acc = 0.0\n",
    "    with torch.no_grad():\n",
    "        for X_valid, y_valid in valid_loader:\n",
    "            X_valid, y_valid = X_valid.to(device), y_valid.to(device)\n",
    "            pred_valid = m_model(X_valid)\n",
    "            valid_loss = valid_loss + loss_fn(pred_valid, y_valid).item()\n",
    "            pred_class = pred_valid.argmax(dim=-1)\n",
    "            valid_acc = valid_acc + torch.sum(pred_class == y_valid).item()\n",
    "        # epoch 검증 종료\n",
    "        valid_loss = valid_loss / len(valid_loader)\n",
    "        valid_acc = valid_acc / len(valid_loader.dataset) #.dataset은 dataset을 반환\n",
    "        val_loss_list.append(valid_loss)\n",
    "        val_acc_list.append(valid_acc)\n",
    "        print(f\"[{epoch+1}/{epochs}] train loss: {train_loss}, valid loss: {valid_loss}, valid_acc: {valid_acc}\")\n",
    "\n",
    "e = time.time()\n",
    "print(f\"학습에 걸린시간: {e-s}초\")\n"
   ]
  },
  {
   "cell_type": "markdown",
   "metadata": {},
   "source": [
    "# 시각화"
   ]
  },
  {
   "cell_type": "code",
   "execution_count": 15,
   "metadata": {},
   "outputs": [
    {
     "data": {
      "image/png": "[encoded data removed]",
      "text/plain": [
       "<Figure size 1500x600 with 2 Axes>"
      ]
     },
     "metadata": {},
     "output_type": "display_data"
    }
   ],
   "source": [
    "plt.figure(figsize=(15, 6))\n",
    "plt.subplot(1, 2, 1)\n",
    "plt.plot(range(epochs), train_loss_list, label=\"train\")\n",
    "plt.plot(range(epochs), val_loss_list, label=\"validation\")\n",
    "plt.title(\"loss\")\n",
    "plt.xlabel(\"epochs\")\n",
    "plt.ylabel(\"loss\")\n",
    "plt.legend()\n",
    "\n",
    "plt.subplot(1, 2, 2)\n",
    "plt.plot(range(epochs), val_acc_list)\n",
    "plt.title('validation accuracy')\n",
    "plt.grid(True, linestyle=\":\")\n",
    "\n",
    "plt.tight_layout()\n",
    "plt.show()"
   ]
  },
  {
   "cell_type": "markdown",
   "metadata": {},
   "source": [
    "# 제일 성능 좋은 모델?"
   ]
  },
  {
   "cell_type": "code",
   "execution_count": 22,
   "metadata": {},
   "outputs": [
    {
     "data": {
      "text/plain": [
       "8"
      ]
     },
     "execution_count": 22,
     "metadata": {},
     "output_type": "execute_result"
    }
   ],
   "source": [
    "best_model = np.argmin(val_loss_list)\n",
    "best_model"
   ]
  },
  {
   "cell_type": "code",
   "execution_count": 26,
   "metadata": {},
   "outputs": [
    {
     "data": {
      "text/plain": [
       "0.29133845049935053"
      ]
     },
     "execution_count": 26,
     "metadata": {},
     "output_type": "execute_result"
    }
   ],
   "source": [
    "val_loss_list[8]"
   ]
  },
  {
   "cell_type": "markdown",
   "metadata": {},
   "source": [
    "# 모델 저장\n",
    "- 학습하는 도중 성능이 개선될때마다 저장\n",
    "- 조기종료(Early Stopping) 로직을 같이 처리\n",
    "- 기존의 모델을 처음 부터 끝까지 작성 해보자"
   ]
  },
  {
   "cell_type": "code",
   "execution_count": 27,
   "metadata": {},
   "outputs": [],
   "source": [
    "import torch\n",
    "import torch.nn as nn\n",
    "\n",
    "import matplotlib.pyplot as plt\n",
    "import numpy as np\n",
    "\n",
    "import time\n",
    "\n",
    "# device 설정\n",
    "device = \"cuda\" if torch.cuda.is_available() else \"cpu\""
   ]
  },
  {
   "cell_type": "code",
   "execution_count": 29,
   "metadata": {},
   "outputs": [
    {
     "name": "stdout",
     "output_type": "stream",
     "text": [
      "[1/100] train loss: 0.6829289600635187, valid loss: 0.4083535055853898, valid_acc: 0.849\n",
      ">>>>> 모델저장: 1 epoch - best valid loss: inf, 현재 valid_loss: 0.40835\n",
      "[2/100] train loss: 0.4092554427110232, valid loss: 0.39076067908089374, valid_acc: 0.8596\n",
      ">>>>> 모델저장: 2 epoch - best valid loss: 0.40835, 현재 valid_loss: 0.39076\n",
      "[3/100] train loss: 0.356345348747877, valid loss: 0.3466212060538274, valid_acc: 0.87\n",
      ">>>>> 모델저장: 3 epoch - best valid loss: 0.39076, 현재 valid_loss: 0.34662\n",
      "[4/100] train loss: 0.3286732636201076, valid loss: 0.3352717147503473, valid_acc: 0.8736\n",
      ">>>>> 모델저장: 4 epoch - best valid loss: 0.34662, 현재 valid_loss: 0.33527\n",
      "[5/100] train loss: 0.308533277343481, valid loss: 0.314435544647748, valid_acc: 0.8842\n",
      ">>>>> 모델저장: 5 epoch - best valid loss: 0.33527, 현재 valid_loss: 0.31444\n",
      "[6/100] train loss: 0.2903861016417161, valid loss: 0.32452003223986564, valid_acc: 0.8842\n",
      "[7/100] train loss: 0.27349378905999355, valid loss: 0.37138998282106617, valid_acc: 0.8651\n",
      "[8/100] train loss: 0.2637163263482925, valid loss: 0.31423884936714475, valid_acc: 0.885\n",
      ">>>>> 모델저장: 8 epoch - best valid loss: 0.31444, 현재 valid_loss: 0.31424\n",
      "[9/100] train loss: 0.2518805718383728, valid loss: 0.30993580827607387, valid_acc: 0.8878\n",
      ">>>>> 모델저장: 9 epoch - best valid loss: 0.31424, 현재 valid_loss: 0.30994\n",
      "[10/100] train loss: 0.2448888351328862, valid loss: 0.30394965306490285, valid_acc: 0.8954\n",
      ">>>>> 모델저장: 10 epoch - best valid loss: 0.30994, 현재 valid_loss: 0.30395\n",
      "[11/100] train loss: 0.23510782663256694, valid loss: 0.325865831273266, valid_acc: 0.8885\n",
      "[12/100] train loss: 0.2221465520751782, valid loss: 0.33021868029727214, valid_acc: 0.8859\n",
      "[13/100] train loss: 0.21316119338839482, valid loss: 0.31271264834117285, valid_acc: 0.8915\n",
      "[14/100] train loss: 0.21199517979835852, valid loss: 0.3280301338321046, valid_acc: 0.8889\n",
      "[15/100] train loss: 0.1971399213067996, valid loss: 0.3157262848572263, valid_acc: 0.8947\n",
      "<<<<<< 15 epoch에서 조기종료. best validation loss: 0.30394965306490285 에서 개선안됨.>>>>>>>>\n",
      "학습에 걸린시간: 251.00560474395752초\n"
     ]
    }
   ],
   "source": [
    "#1. 학습률, epoch, model, loss, optimizer 객채 생성\n",
    "\n",
    "lr = 0.001\n",
    "epochs = 100\n",
    "es_model = FashionMNISTModel().to(device)\n",
    "loss_fn = nn.CrossEntropyLoss()\n",
    "optimizer = torch.optim.Adam(es_model.parameters(), lr=lr)\n",
    "\n",
    "#####################################################################################\n",
    "#####################################################################################\n",
    "\n",
    "#2. 조기종료 / 모델 저장 변수 추가.\n",
    "\n",
    "best_score = torch.inf #초기값은 가장 큰수(무한)으로 지정.\n",
    "#                      # 초기에 어떤 loss가 나오더라도 초기 best_score보다 작기 때문에 갱신에 용이\n",
    "#                      # best_score > valid_loss : valid loss의 성능이 더 좋으면 best_score = valid_loss\n",
    "save_path = \"saved_models/fashion_mnist_model.pth\"\n",
    "patience = 5 # 조기 종료시 성능개선이 되는지 기다릴 epoch수\n",
    "trigger_count = 0 # 성능개선 되는지를 몇번째 기다리는지 저장할 변수\n",
    "#                 # if patience == trigger_count -> 조기 종료\n",
    "\n",
    "\n",
    "######################################################################################\n",
    "######################################################################################\n",
    "\n",
    "#3. 학습\n",
    "\n",
    "train_loss_list = []\n",
    "valid_loss_list = []\n",
    "valid_acc_list = []\n",
    "\n",
    "s = time.time()\n",
    "for epoch in range(epochs):\n",
    "    es_model.train()\n",
    "    train_loss = 0.0\n",
    "    for X_train, y_train in train_loader: \n",
    "        X_train, y_train = X_train.to(device), y_train.to(device)\n",
    "        pred_train = es_model(X_train)\n",
    "        loss = loss_fn(pred_train, y_train)\n",
    "        loss.backward()\n",
    "        optimizer.step()\n",
    "        optimizer.zero_grad()\n",
    "        train_loss = train_loss + loss.item()\n",
    "    train_loss = train_loss / len(train_loader)\n",
    "    train_loss_list.append(train_loss)\n",
    "        \n",
    "    ####################################################################################################################\n",
    "    ####################################################################################################################\n",
    "\n",
    "    es_model.eval()\n",
    "    valid_loss = 0.0\n",
    "    valid_acc = 0.0\n",
    "    with torch.no_grad():\n",
    "        for X_valid, y_valid in valid_loader:\n",
    "            X_valid, y_valid = X_valid.to(device), y_valid.to(device)\n",
    "            pred_valid = es_model(X_valid)\n",
    "            valid_loss = valid_loss + loss_fn(pred_valid, y_valid).item()\n",
    "            pred_class = pred_valid.argmax(dim=-1)\n",
    "            valid_acc = valid_acc + torch.sum(pred_class == y_valid).item()\n",
    "        valid_loss = valid_loss / len(valid_loader)\n",
    "        valid_acc = valid_acc /  len(valid_loader.dataset) # DataLoader.dataset: Dataset을 반환.\n",
    "        valid_loss_list.append(valid_loss)\n",
    "        valid_acc_list.append(valid_acc)\n",
    "        print(f\"[{epoch+1}/{epochs}] train loss: {train_loss}, valid loss: {valid_loss}, valid_acc: {valid_acc}\")\n",
    "\n",
    "        ####################################################################################################################\n",
    "        ####################################################################################################################\n",
    "        \n",
    "        # 4. 저장 + 조기종료\n",
    "        if valid_loss < best_score:                 #1) 성능이 개선된 경우\n",
    "            print(f\">>>>> 모델저장: {epoch+1} epoch - best valid loss: {best_score:.5f}, 현재 valid_loss: {valid_loss:.5f}\")\n",
    "            best_score = valid_loss                 #2) best 값을 현 epoch의 valid_loss로 변경.\n",
    "            torch.save(es_model, save_path)\n",
    "            trigger_count = 0                       #3) 조기종료 trigger_count=0 으로 초기화\n",
    "        else:                                       #4) 성능 개선이 안됨 -> 조기 종료 처리\n",
    "            trigger_count += 1                      #5) trigger_count 를 1 증가.\n",
    "            if patience == trigger_count:           #6) 지정한 횟수만큼 대기\n",
    "                print(f\"<<<<<< {epoch+1} epoch에서 조기종료. best validation loss: {best_score} 에서 개선안됨.>>>>>>>>\")\n",
    "                break # epochs 의 for in 문 break.\n",
    "\n",
    "\n",
    "e = time.time()\n",
    "print(f\"학습에 걸린시간: {e-s}초\")\n"
   ]
  },
  {
   "cell_type": "markdown",
   "metadata": {},
   "source": [
    "# 저장된 모델 test set에서 최종평가"
   ]
  },
  {
   "cell_type": "code",
   "execution_count": 31,
   "metadata": {},
   "outputs": [
    {
     "name": "stdout",
     "output_type": "stream",
     "text": [
      "최종 평가결과: loss: 0.327649363045451, accuracy: 0.8869\n"
     ]
    }
   ],
   "source": [
    "#1. best model 불러오기\n",
    "best_model = torch.load(save_path)\n",
    "best_model = best_model.to(device)\n",
    "\n",
    "#2. evaluation 모드로 변경\n",
    "best_model.eval()\n",
    "\n",
    "#3. 평가\n",
    "test_loss = 0.0\n",
    "test_acc = 0.0\n",
    "with torch.no_grad():\n",
    "    for X_test, y_test in test_loader:\n",
    "        X_test, y_test = X_test.to(device), y_test.to(device)\n",
    "        pred_test = best_model(X_test)\n",
    "        test_loss = test_loss + loss_fn(pred_test, y_test).item()\n",
    "        pred_test_class = pred_test.argmax(dim=-1)\n",
    "        test_acc = test_acc + torch.sum(pred_test_class == y_test).item() # 맞은 개수 누적\n",
    "\n",
    "    #4. 검증완료\n",
    "    test_loss = test_loss / len(test_loader)\n",
    "    test_acc = test_acc / len(test_loader.dataset)\n",
    "\n",
    "print(f\"최종 평가결과: loss: {test_loss}, accuracy: {test_acc}\")"
   ]
  },
  {
   "cell_type": "markdown",
   "metadata": {},
   "source": [
    "# 새로운 데이터로 추정"
   ]
  },
  {
   "cell_type": "code",
   "execution_count": 33,
   "metadata": {},
   "outputs": [
    {
     "name": "stdout",
     "output_type": "stream",
     "text": [
      "추론 라벨\n",
      "5 - Sandal, 99.72%\n",
      "5 - Sandal, 99.72%\n",
      "5 - Sandal, 99.72%\n"
     ]
    }
   ],
   "source": [
    "new_data = torch.empty(3, 1, 28, 28)\n",
    "\n",
    "with torch.no_grad():\n",
    "    y_hat = best_model(new_data)\n",
    "\n",
    "#  각 샘플에 대해서 label, 클래스 이름, 최대 확률값을 뽑기\n",
    "print(\"추론 라벨\")\n",
    "labels = y_hat.argmax(dim=-1)\n",
    "proba = y_hat.softmax(dim=-1) # 0~9일 확률\n",
    "max_proba = proba.max(dim=-1).values\n",
    "\n",
    "for i, label in enumerate(labels):\n",
    "    print(f\"{label} - {testset.classes[label]}, {max_proba[i]*100:.2f}%\")"
   ]
  }
 ],
 "metadata": {
  "kernelspec": {
   "display_name": "Python 3",
   "language": "python",
   "name": "python3"
  },
  "language_info": {
   "codemirror_mode": {
    "name": "ipython",
    "version": 3
   },
   "file_extension": ".py",
   "mimetype": "text/x-python",
   "name": "python",
   "nbconvert_exporter": "python",
   "pygments_lexer": "ipython3",
   "version": "3.11.8"
  }
 },
 "nbformat": 4,
 "nbformat_minor": 2
}
