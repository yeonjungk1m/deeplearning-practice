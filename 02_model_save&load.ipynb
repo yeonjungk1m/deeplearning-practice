{
 "cells": [
  {
   "cell_type": "markdown",
   "metadata": {},
   "source": [
    "# 모델 저장\n",
    "- 학습한 모델을 저장장치에 파일로 저장 및 나중에 불러와 추가 학습 및 예측서비스를 할 수 있도록 하는 작업\n",
    "- 저장 파일 확장자는 pt, pth\n",
    "\n",
    "# 모델 전체 저장하기 및 불러오기\n",
    "- 저장하기 : torch.save(저장할 객체(model), 저장경로)\n",
    "- 불러오기 : load_model = torch.load(저장경로)\n",
    "  - 저장 시 pickle을 이용해 직렬화 하기 때문에 실행환경에도 모델을 저장할 때 사용한 class가 있어 야 함.\n",
    "\n",
    "# 모델의 파라미터만 저장\n",
    "- state_dict 형식으로 저장\n",
    "- model.state_dict() 메소드를 이용해 조회\n",
    "- 파라미터만 저장 : torch.save(model.state_dict(), \"저장경로\")\n",
    "- 저장된 파라미터 불러온후 덮어씌우기 : new_model.load_state_dict(troch.load(\"state_dict저장경로\"))\n",
    "\n",
    "# Checkpoint 저장 및 불러오기\n",
    "- 모델의 구조, 파라미터 뿐만 아니라 optimizer, loss 함수 등 학습에 필용한 객체들을 저장\n",
    "- 저장 : torch.save({'epoch' : epoch, \n",
    "                    model_state_dict : model_state_dict, \n",
    "                    optimizer_state_dict : optimizer.state_dict(), \n",
    "                    loss : train_loss}, \"저장경로\")\n",
    "- 불러오기 \n",
    "  : model = MyModel()\n",
    "  : optimizer = optim.Adam(model.parameter())\n",
    "\n",
    "- loading된 check point 값을 이용해 이전 학습상태 복원\n",
    "  - checkpoint = torch.load(\"저장경로\")\n",
    "  - model.load_state_dict(checkpoint['model_state_dict'])\n",
    "  - optimzier.load_state_dict(checkpoint['optimizer_state_dict'])\n",
    "  - epoch = checkpoint['epoch']\n",
    "  - loss = checkpoint['loss']"
   ]
  },
  {
   "cell_type": "code",
   "execution_count": 10,
   "metadata": {},
   "outputs": [],
   "source": [
    "# class 생성\n",
    "\n",
    "import torch\n",
    "from torch import nn\n",
    "\n",
    "class MyNetwork(nn.Module):\n",
    "    def __init__(self):\n",
    "        super().__init__() #nn.module instance 초기화\n",
    "        self.lr = nn.Linear(784, 64)\n",
    "        self.out = nn.Linear(64, 10)\n",
    "        self.relu = nn.ReLU()\n",
    "\n",
    "    def forward(self, X):\n",
    "        X = torch.flatten(X, start_dim=1)\n",
    "        X = self.lr1(X)\n",
    "        X = self.relu(X)\n",
    "        X = self.out(X)\n",
    "        return X"
   ]
  },
  {
   "cell_type": "code",
   "execution_count": 12,
   "metadata": {},
   "outputs": [],
   "source": [
    "## 모델 객체 생성\n",
    "sample_model = MyNetwork()\n",
    "\n",
    "#1. 모델 저장\n",
    "torch.save(sample_model, \"saved_models/sample_model.pth\")\n",
    "\n",
    "#2. 모델 불러오기\n",
    "load_model = torch.load(\"saved_models/sample_model.pth\")"
   ]
  },
  {
   "cell_type": "code",
   "execution_count": null,
   "metadata": {},
   "outputs": [],
   "source": [
    "# 기존 sample_model과 load_model의 weight가 같은 것을 확인할 수 있음\n",
    "sample_model.out.weight\n",
    "load_model.out.weight"
   ]
  },
  {
   "cell_type": "code",
   "execution_count": 24,
   "metadata": {},
   "outputs": [
    {
     "data": {
      "text/plain": [
       "<All keys matched successfully>"
      ]
     },
     "execution_count": 24,
     "metadata": {},
     "output_type": "execute_result"
    }
   ],
   "source": [
    "## 파라미터 저장 및 불러오기\n",
    "#1. state_dict 저장\n",
    "## 파라미터 객체 저장\n",
    "state_dict = sample_model.state_dict()\n",
    "state_dict.keys() # 딕셔너리 형태이기 때문에 key값 확인\n",
    "## weight, bias가 저장된 것을 확인할 수 있음.\n",
    "torch.save(state_dict, \"saved_models/sample_model_weight.pth\")\n",
    "\n",
    "# 모델 생성 및 state_dict 파라미터로 변경\n",
    "load_state_dict = torch.load(\"saved_models/sample_model_weight.pth\")\n",
    "new_model = MyNetwork()\n",
    "new_model.load_state_dict(load_state_dict)\n"
   ]
  }
 ],
 "metadata": {
  "kernelspec": {
   "display_name": "Python 3",
   "language": "python",
   "name": "python3"
  },
  "language_info": {
   "codemirror_mode": {
    "name": "ipython",
    "version": 3
   },
   "file_extension": ".py",
   "mimetype": "text/x-python",
   "name": "python",
   "nbconvert_exporter": "python",
   "pygments_lexer": "ipython3",
   "version": "3.11.8"
  }
 },
 "nbformat": 4,
 "nbformat_minor": 2
}
