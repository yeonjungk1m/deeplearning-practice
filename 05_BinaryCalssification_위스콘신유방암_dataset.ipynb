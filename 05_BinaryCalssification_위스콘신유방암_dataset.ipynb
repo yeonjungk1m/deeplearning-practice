{
 "cells": [
  {
   "cell_type": "markdown",
   "metadata": {},
   "source": [
    "# 이진분류(Binary Classification) 위스콘신 유방암 데이터셋\n",
    "- 이진 분류 문제 처리 모델의 2가지 방법\n",
    "    1. positive(1)일 확률을 출력하도록 구현\n",
    "        - out put layer : units = 1, activation = 'sigmoid'\n",
    "        - loss = binary_crossentropy\n",
    "    2. negative(0)일 확률과 postive(1)일 확률을 출력하도록 구현 / 다중분류 처리 방식으로 해결\n",
    "        - outputlayer : units = 2, activation = 'softmax'\n",
    "        - y정답은 one hot encoding 처리\n",
    "        - loss : categorical_crossentropy"
   ]
  },
  {
   "cell_type": "code",
   "execution_count": null,
   "metadata": {},
   "outputs": [],
   "source": []
  }
 ],
 "metadata": {
  "language_info": {
   "name": "python"
  }
 },
 "nbformat": 4,
 "nbformat_minor": 2
}
